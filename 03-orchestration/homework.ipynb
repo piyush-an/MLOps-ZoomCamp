{
 "cells": [
  {
   "cell_type": "markdown",
   "metadata": {},
   "source": [
    "# Week 03 | Homework\n",
    "\n",
    "Saturday , June 11, 2022 <br>\n",
    "Assignment: [here](https://github.com/DataTalksClub/mlops-zoomcamp/blob/main/03-orchestration/homework.md)\n",
    "---"
   ]
  },
  {
   "cell_type": "markdown",
   "metadata": {},
   "source": [
    "## Q1 : Which task requires to call `.result()` ?\n",
    "After adding all of the decorators, there is actually one task that you will need to call .result() for inside the flow to get it to work. Which task is this?\n",
    "\n",
    "```plaintext\n",
    "03:53:33.225 | INFO    | Flow run 'congenial-marten' - Created task run 'train_model-7c866860-0' for task 'train_model'\n",
    "03:53:33.251 | ERROR   | Flow run 'congenial-marten' - Encountered exception during execution:\n",
    "Traceback (most recent call last):\n",
    "  File \"/home/mlops_zoomcamp/anaconda3/envs/exp_tracking/lib/python3.9/site-packages/prefect/engine.py\", line 468, in orchestrate_flow_run\n",
    "    result = await run_sync_in_worker_thread(flow_call)\n",
    "  File \"/home/mlops_zoomcamp/anaconda3/envs/exp_tracking/lib/python3.9/site-packages/prefect/utilities/asyncio.py\", line 54, in run_sync_in_worker_thread\n",
    "    return await anyio.to_thread.run_sync(call, cancellable=True)\n",
    "  File \"/home/mlops_zoomcamp/anaconda3/envs/exp_tracking/lib/python3.9/site-packages/anyio/to_thread.py\", line 31, in run_sync\n",
    "    return await get_asynclib().run_sync_in_worker_thread(\n",
    "  File \"/home/mlops_zoomcamp/anaconda3/envs/exp_tracking/lib/python3.9/site-packages/anyio/_backends/_asyncio.py\", line 937, in run_sync_in_worker_thread\n",
    "    return await future\n",
    "  File \"/home/mlops_zoomcamp/anaconda3/envs/exp_tracking/lib/python3.9/site-packages/anyio/_backends/_asyncio.py\", line 867, in run\n",
    "    result = context.run(func, *args)\n",
    "  File \"/home/mlops_zoomcamp/Notebooks/week03/homework.py\", line 97, in main\n",
    "    lr, dv = train_model(df_train_processed, categorical)\n",
    "TypeError: cannot unpack non-iterable PrefectFuture object\n",
    "```\n",
    "**Answer:** `train_model` <br>\n",
    "Code:\n",
    "```python\n",
    "lr, dv = train_model(df_train_processed, categorical).result()\n",
    "```"
   ]
  },
  {
   "cell_type": "markdown",
   "metadata": {},
   "source": [
    "## Q2 : What is the validation MSE when running the flow with `2021-08-15` date?\n",
    "\n",
    "Logs:\n",
    "```plaintext\n",
    "05:30:51.586 | INFO    | prefect.engine - Created flow run 'amphibian-whale' for flow 'main'\n",
    "...\n",
    "05:31:47.806 | INFO    | Task run 'run_model-6559300c-0' - The MSE of validation is: 11.637031464483703\n",
    "```\n",
    "**Answer:** 11.637"
   ]
  },
  {
   "cell_type": "markdown",
   "metadata": {},
   "source": [
    "## Q3 : What is the file size of the DictVectorizer that we trained when the date is `2021-08-15`?\n",
    "\n",
    "```plaintext\n",
    "(exp_tracking) mlops_zoomcamp@mlops:~/Notebooks/week03/model$ ls -l\n",
    "total 72\n",
    "-rw-rw-r-- 1 mlops_zoomcamp mlops_zoomcamp 13191 Jun 12 06:32 dv-2021-03-15.b\n",
    "-rw-rw-r-- 1 mlops_zoomcamp mlops_zoomcamp 13191 Jun 12 06:33 dv-2021-08-15.b\n",
    "-rw-rw-r-- 1 mlops_zoomcamp mlops_zoomcamp 17739 Jun 12 06:32 model-2021-03-15.bin\n",
    "-rw-rw-r-- 1 mlops_zoomcamp mlops_zoomcamp 17739 Jun 12 06:33 model-2021-08-15.bin\n",
    "```\n",
    "\n",
    "**Answer:** `13,000 bytes`"
   ]
  },
  {
   "cell_type": "markdown",
   "metadata": {},
   "source": [
    "## Q4 : What is the Cron expression to run a flow at 9 AM every 15th of the month?\n",
    "\n",
    "```python\n",
    "DeploymentSpec(\n",
    "    flow=main,\n",
    "    name=\"monthly_15_model_training\",\n",
    "    # schedule=IntervalSchedule(interval=timedelta(minutes=5)),\n",
    "    schedule=CronSchedule(\n",
    "        cron=\"0 9 15 * *\",\n",
    "        timezone=\"America/New_York\"),\n",
    "    flow_runner=SubprocessFlowRunner(),\n",
    "    tags=[\"ml\",\"scheduled\"]\n",
    ")\n",
    "```\n",
    "\n",
    "\n",
    "**Answer:** `0 9 15 * *`\n",
    "\n",
    "At 09:00 on day-of-month 15."
   ]
  },
  {
   "cell_type": "markdown",
   "metadata": {},
   "source": [
    "## Q5 : Number of upcoming runs on the top right of the dashboard.\n",
    "\n",
    "<div>\n",
    "<img src=\"../images/p_deploy.png\" width=\"800\"/>\n",
    "</div>\n",
    "\n",
    "**Obervation:** `4`\n",
    "\n",
    "**Answer:** `3`"
   ]
  },
  {
   "cell_type": "markdown",
   "metadata": {},
   "source": [
    "## Q6 : What is the command to view the available work-queues?\n",
    "\n",
    "**Answer:** `prefect work-queue preview`\n",
    "\n",
    "Code: `prefect work-queue preview -h 2190 bde5faef-b1d9-4552-807d-b2cc685ea3b7`"
   ]
  }
 ],
 "metadata": {
  "interpreter": {
   "hash": "14ac257e915ac4755ba59f9460a3577fb37731fc5cf5315fe046bb02343169fa"
  },
  "kernelspec": {
   "display_name": "Python 3.9.12 ('exp_tracking': conda)",
   "language": "python",
   "name": "python3"
  },
  "language_info": {
   "codemirror_mode": {
    "name": "ipython",
    "version": 3
   },
   "file_extension": ".py",
   "mimetype": "text/x-python",
   "name": "python",
   "nbconvert_exporter": "python",
   "pygments_lexer": "ipython3",
   "version": "3.9.12"
  },
  "orig_nbformat": 4
 },
 "nbformat": 4,
 "nbformat_minor": 2
}
