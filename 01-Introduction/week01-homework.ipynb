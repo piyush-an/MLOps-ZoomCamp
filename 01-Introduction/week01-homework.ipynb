{
 "cells": [
  {
   "cell_type": "markdown",
   "id": "56f694f3",
   "metadata": {},
   "source": [
    "# Week 01 | Homework\n",
    "\n",
    "Friday, May 20, 2022<br>\n",
    "Assignment: [here](https://github.com/DataTalksClub/mlops-zoomcamp/blob/main/01-intro/homework.md)"
   ]
  },
  {
   "cell_type": "code",
   "execution_count": 1,
   "id": "34303f4e",
   "metadata": {},
   "outputs": [],
   "source": [
    "import pandas as pd\n",
    "# Data visualization\n",
    "import seaborn as sns\n",
    "import matplotlib.pyplot as plt\n",
    "# Onehot encoding of pickup and drop location\n",
    "from sklearn.feature_extraction import DictVectorizer\n",
    "# Regression using LinearRegression\n",
    "from sklearn.linear_model import LinearRegression\n",
    "from sklearn.linear_model import Lasso\n",
    "from sklearn.linear_model import Ridge\n",
    "# Calculting the score of model\n",
    "from sklearn.metrics import mean_squared_error \n",
    "# Save model\n",
    "import pickle\n",
    "%matplotlib inline"
   ]
  },
  {
   "cell_type": "markdown",
   "id": "109c6f15",
   "metadata": {},
   "source": [
    "## Q1. Read the data for January. How many records are there?"
   ]
  },
  {
   "cell_type": "code",
   "execution_count": 2,
   "id": "acb66f34",
   "metadata": {},
   "outputs": [
    {
     "data": {
      "text/plain": [
       "1154112"
      ]
     },
     "execution_count": 2,
     "metadata": {},
     "output_type": "execute_result"
    }
   ],
   "source": [
    "df_analysis = pd.read_parquet('../data/fhv_tripdata_2021-01.parquet')\n",
    "df_analysis.shape[0]\n",
    "# Count 1154112 "
   ]
  },
  {
   "cell_type": "markdown",
   "id": "eecd3a3e",
   "metadata": {},
   "source": [
    "## Q2. What's the average trip duration in January?"
   ]
  },
  {
   "cell_type": "code",
   "execution_count": 3,
   "id": "e6b8427e",
   "metadata": {},
   "outputs": [
    {
     "data": {
      "text/plain": [
       "count    1.154112e+06\n",
       "mean     1.916722e+01\n",
       "std      3.986922e+02\n",
       "min      1.666667e-02\n",
       "25%      7.766667e+00\n",
       "50%      1.340000e+01\n",
       "75%      2.228333e+01\n",
       "max      4.233710e+05\n",
       "Name: duration, dtype: float64"
      ]
     },
     "execution_count": 3,
     "metadata": {},
     "output_type": "execute_result"
    }
   ],
   "source": [
    "df_analysis['duration'] = df_analysis.dropOff_datetime - df_analysis.pickup_datetime\n",
    "df_analysis.duration = df_analysis.duration.apply(lambda td: td.total_seconds() / 60)\n",
    "df_analysis.duration.describe()\n",
    "# Average / Mean 19.16"
   ]
  },
  {
   "cell_type": "markdown",
   "id": "f8ca788a",
   "metadata": {},
   "source": [
    "## Distribution of the duration variable"
   ]
  },
  {
   "cell_type": "code",
   "execution_count": 4,
   "id": "f0d08802",
   "metadata": {},
   "outputs": [
    {
     "name": "stderr",
     "output_type": "stream",
     "text": [
      "/home/mlops_zoomcamp/anaconda3/lib/python3.9/site-packages/seaborn/distributions.py:2619: FutureWarning: `distplot` is a deprecated function and will be removed in a future version. Please adapt your code to use either `displot` (a figure-level function with similar flexibility) or `histplot` (an axes-level function for histograms).\n",
      "  warnings.warn(msg, FutureWarning)\n"
     ]
    },
    {
     "data": {
      "text/plain": [
       "<AxesSubplot:xlabel='duration', ylabel='Density'>"
      ]
     },
     "execution_count": 4,
     "metadata": {},
     "output_type": "execute_result"
    },
    {
     "data": {
      "image/png": "[encoded data removed]",
      "text/plain": [
       "<Figure size 432x288 with 1 Axes>"
      ]
     },
     "metadata": {
      "needs_background": "light"
     },
     "output_type": "display_data"
    }
   ],
   "source": [
    "sns.distplot(df_analysis.duration)"
   ]
  },
  {
   "cell_type": "markdown",
   "id": "8230aa5e",
   "metadata": {},
   "source": [
    "## Q3. How many records did you drop?"
   ]
  },
  {
   "cell_type": "code",
   "execution_count": 5,
   "id": "3dc178c2",
   "metadata": {},
   "outputs": [
    {
     "data": {
      "text/plain": [
       "44286"
      ]
     },
     "execution_count": 5,
     "metadata": {},
     "output_type": "execute_result"
    }
   ],
   "source": [
    "pre_count = df_analysis.shape[0]\n",
    "df_analysis = df_analysis[(df_analysis.duration >= 1) & (df_analysis.duration <= 60 )]\n",
    "post_count = df_analysis.shape[0]\n",
    "pre_count - post_count \n",
    "# Dropped 44286"
   ]
  },
  {
   "cell_type": "markdown",
   "id": "51eb0a1d",
   "metadata": {},
   "source": [
    "## What's the fractions of missing values for the pickup location ID? I.e. fraction of \"-1\"s after you filled the NAs."
   ]
  },
  {
   "cell_type": "code",
   "execution_count": 6,
   "id": "2b752109",
   "metadata": {},
   "outputs": [],
   "source": [
    "# df_analysis = df_analysis.fillna(-1)\n",
    "df_analysis['PUlocationID'].fillna(-1, inplace=True)\n",
    "df_analysis['DOlocationID'].fillna(-1, inplace=True)"
   ]
  },
  {
   "cell_type": "code",
   "execution_count": 7,
   "id": "9604b7f6",
   "metadata": {},
   "outputs": [
    {
     "data": {
      "text/plain": [
       "83.52732770722618"
      ]
     },
     "execution_count": 7,
     "metadata": {},
     "output_type": "execute_result"
    }
   ],
   "source": [
    "(df_analysis['PUlocationID'] == -1.0).sum() / post_count * 100 \n",
    "# 83.52%"
   ]
  },
  {
   "cell_type": "markdown",
   "id": "a85874c1",
   "metadata": {},
   "source": [
    "## Q4. What's the dimensionality of this matrix? (The number of columns)."
   ]
  },
  {
   "cell_type": "code",
   "execution_count": 8,
   "id": "fe698ca0",
   "metadata": {},
   "outputs": [],
   "source": [
    "df_analysis = df_analysis[(df_analysis.duration >= 1) & (df_analysis.duration <= 60 )]"
   ]
  },
  {
   "cell_type": "code",
   "execution_count": 9,
   "id": "41b249e3",
   "metadata": {},
   "outputs": [],
   "source": [
    "categotical = ['PUlocationID', 'DOlocationID']"
   ]
  },
  {
   "cell_type": "code",
   "execution_count": 10,
   "id": "90504869",
   "metadata": {},
   "outputs": [],
   "source": [
    "df_analysis[categotical] = df_analysis[categotical].astype(str)"
   ]
  },
  {
   "cell_type": "code",
   "execution_count": 11,
   "id": "2beefcf6",
   "metadata": {},
   "outputs": [],
   "source": [
    "dv = DictVectorizer()"
   ]
  },
  {
   "cell_type": "code",
   "execution_count": 12,
   "id": "41c4ac70",
   "metadata": {},
   "outputs": [],
   "source": [
    "train_dicts = df_analysis[categotical].to_dict(orient='records')"
   ]
  },
  {
   "cell_type": "code",
   "execution_count": 13,
   "id": "fb98ea16",
   "metadata": {},
   "outputs": [],
   "source": [
    "X_train = dv.fit_transform(train_dicts)"
   ]
  },
  {
   "cell_type": "code",
   "execution_count": 14,
   "id": "e7c030d7",
   "metadata": {},
   "outputs": [
    {
     "data": {
      "text/plain": [
       "<1109826x525 sparse matrix of type '<class 'numpy.float64'>'\n",
       "\twith 2219652 stored elements in Compressed Sparse Row format>"
      ]
     },
     "execution_count": 14,
     "metadata": {},
     "output_type": "execute_result"
    }
   ],
   "source": [
    "X_train\n",
    "# 1109826x525 sparse matrix\n",
    "# 525 are the number of columns"
   ]
  },
  {
   "cell_type": "code",
   "execution_count": 15,
   "id": "8c55e129",
   "metadata": {},
   "outputs": [],
   "source": [
    "target = 'duration'\n",
    "y_train = df_analysis[target].values"
   ]
  },
  {
   "cell_type": "code",
   "execution_count": 16,
   "id": "a00ef6d3",
   "metadata": {},
   "outputs": [
    {
     "data": {
      "text/plain": [
       "array([17.        , 17.        ,  8.28333333, ..., 16.2       ,\n",
       "       19.43333333, 36.        ])"
      ]
     },
     "execution_count": 16,
     "metadata": {},
     "output_type": "execute_result"
    }
   ],
   "source": [
    "y_train"
   ]
  },
  {
   "cell_type": "code",
   "execution_count": 17,
   "id": "a0acfeb4",
   "metadata": {},
   "outputs": [],
   "source": [
    "lr = LinearRegression()\n",
    "lr.fit(X_train, y_train)\n",
    "\n",
    "y_pred = lr.predict(X_train)"
   ]
  },
  {
   "cell_type": "code",
   "execution_count": 18,
   "id": "c361cfc8",
   "metadata": {},
   "outputs": [
    {
     "name": "stderr",
     "output_type": "stream",
     "text": [
      "/home/mlops_zoomcamp/anaconda3/lib/python3.9/site-packages/seaborn/distributions.py:2619: FutureWarning: `distplot` is a deprecated function and will be removed in a future version. Please adapt your code to use either `displot` (a figure-level function with similar flexibility) or `histplot` (an axes-level function for histograms).\n",
      "  warnings.warn(msg, FutureWarning)\n",
      "/home/mlops_zoomcamp/anaconda3/lib/python3.9/site-packages/seaborn/distributions.py:2619: FutureWarning: `distplot` is a deprecated function and will be removed in a future version. Please adapt your code to use either `displot` (a figure-level function with similar flexibility) or `histplot` (an axes-level function for histograms).\n",
      "  warnings.warn(msg, FutureWarning)\n"
     ]
    },
    {
     "data": {
      "text/plain": [
       "<matplotlib.legend.Legend at 0x7f341c052af0>"
      ]
     },
     "execution_count": 18,
     "metadata": {},
     "output_type": "execute_result"
    },
    {
     "data": {
      "image/png": "[encoded data removed]",
      "text/plain": [
       "<Figure size 432x288 with 1 Axes>"
      ]
     },
     "metadata": {
      "needs_background": "light"
     },
     "output_type": "display_data"
    }
   ],
   "source": [
    "sns.distplot(y_pred, label= 'Prediction')\n",
    "sns.distplot(y_train, label= 'Actual')\n",
    "plt.legend()"
   ]
  },
  {
   "cell_type": "code",
   "execution_count": 19,
   "id": "b15376be",
   "metadata": {},
   "outputs": [
    {
     "data": {
      "text/plain": [
       "10.528519107212968"
      ]
     },
     "execution_count": 19,
     "metadata": {},
     "output_type": "execute_result"
    }
   ],
   "source": [
    "mean_squared_error(y_train, y_pred, squared=False)\n",
    "# RSME on train\n",
    "# 10.528519107212968"
   ]
  },
  {
   "cell_type": "markdown",
   "id": "40ecf8b2",
   "metadata": {},
   "source": [
    "---\n",
    "\n",
    "## Validation on Feb dataset"
   ]
  },
  {
   "cell_type": "code",
   "execution_count": 20,
   "id": "3eb5a97c",
   "metadata": {},
   "outputs": [],
   "source": [
    "def read_dataframe(file_link):\n",
    "    df = pd.read_parquet(file_link)\n",
    "\n",
    "    df['duration'] = df.dropOff_datetime - df.pickup_datetime\n",
    "    df.duration = df.duration.apply(lambda td: td.total_seconds() / 60)\n",
    "\n",
    "    df = df[(df.duration >= 1) & (df.duration <= 60 )]\n",
    "    \n",
    "    df['PUlocationID'].fillna(-1, inplace=True)\n",
    "    df['DOlocationID'].fillna(-1, inplace=True)\n",
    "\n",
    "    categotical = ['PUlocationID', 'DOlocationID']\n",
    "    \n",
    "    df[categotical] = df[categotical].astype(str)\n",
    "    # For One Hot encoding, values must be passed as string to be converted into numerical \n",
    "    \n",
    "    return df"
   ]
  },
  {
   "cell_type": "code",
   "execution_count": 21,
   "id": "df476a97",
   "metadata": {},
   "outputs": [],
   "source": [
    "# Training dataset   - JAN\n",
    "df_train = read_dataframe('../data/fhv_tripdata_2021-01.parquet')\n",
    "# Validation dataset - FEB\n",
    "df_val = read_dataframe('../data/fhv_tripdata_2021-02.parquet')"
   ]
  },
  {
   "cell_type": "code",
   "execution_count": 22,
   "id": "5f9632d7",
   "metadata": {},
   "outputs": [
    {
     "data": {
      "text/plain": [
       "(1109826, 990113)"
      ]
     },
     "execution_count": 22,
     "metadata": {},
     "output_type": "execute_result"
    }
   ],
   "source": [
    "# Compare length of both dataset\n",
    "len(df_train), len(df_val)"
   ]
  },
  {
   "cell_type": "code",
   "execution_count": 23,
   "id": "0a40a77b",
   "metadata": {},
   "outputs": [],
   "source": [
    "categotical = ['PUlocationID', 'DOlocationID']\n",
    "\n",
    "dv = DictVectorizer()\n",
    "\n",
    "train_dicts = df_train[categotical].to_dict(orient='records')\n",
    "X_train = dv.fit_transform(train_dicts)\n",
    "\n",
    "val_dicts = df_val[categotical].to_dict(orient='records')\n",
    "X_val = dv.transform(val_dicts)"
   ]
  },
  {
   "cell_type": "code",
   "execution_count": 24,
   "id": "cb3dbeef",
   "metadata": {},
   "outputs": [],
   "source": [
    "target = 'duration'\n",
    "y_train = df_train[target].values\n",
    "y_val = df_val[target].values"
   ]
  },
  {
   "cell_type": "code",
   "execution_count": 25,
   "id": "003933d8",
   "metadata": {},
   "outputs": [
    {
     "data": {
      "text/plain": [
       "11.014283222736072"
      ]
     },
     "execution_count": 25,
     "metadata": {},
     "output_type": "execute_result"
    }
   ],
   "source": [
    "lr = LinearRegression()\n",
    "lr.fit(X_train, y_train)\n",
    "\n",
    "y_pred = lr.predict(X_val)\n",
    "\n",
    "mean_squared_error(y_val, y_pred, squared=False)\n",
    "# 11.014283222736072"
   ]
  },
  {
   "cell_type": "code",
   "execution_count": 26,
   "id": "186479ae",
   "metadata": {},
   "outputs": [
    {
     "name": "stderr",
     "output_type": "stream",
     "text": [
      "/home/mlops_zoomcamp/anaconda3/lib/python3.9/site-packages/seaborn/distributions.py:2619: FutureWarning: `distplot` is a deprecated function and will be removed in a future version. Please adapt your code to use either `displot` (a figure-level function with similar flexibility) or `histplot` (an axes-level function for histograms).\n",
      "  warnings.warn(msg, FutureWarning)\n",
      "/home/mlops_zoomcamp/anaconda3/lib/python3.9/site-packages/seaborn/distributions.py:2619: FutureWarning: `distplot` is a deprecated function and will be removed in a future version. Please adapt your code to use either `displot` (a figure-level function with similar flexibility) or `histplot` (an axes-level function for histograms).\n",
      "  warnings.warn(msg, FutureWarning)\n"
     ]
    },
    {
     "data": {
      "text/plain": [
       "<matplotlib.legend.Legend at 0x7f33eca52d00>"
      ]
     },
     "execution_count": 26,
     "metadata": {},
     "output_type": "execute_result"
    },
    {
     "data": {
      "image/png": "[encoded data removed]",
      "text/plain": [
       "<Figure size 432x288 with 1 Axes>"
      ]
     },
     "metadata": {
      "needs_background": "light"
     },
     "output_type": "display_data"
    }
   ],
   "source": [
    "sns.distplot(y_pred, label= 'Prediction')\n",
    "sns.distplot(y_train, label= 'Actual')\n",
    "plt.legend()"
   ]
  },
  {
   "cell_type": "markdown",
   "id": "139cebaa",
   "metadata": {},
   "source": [
    "## Observation\n",
    "\n",
    "The Feb dataset has most values around the 10 min mark, however<br>\n",
    "Our model predicts mostly around 15 mins and 23 mins which is approx 11 min off the actual value considering average."
   ]
  },
  {
   "cell_type": "markdown",
   "id": "2d65e6f7",
   "metadata": {},
   "source": [
    "# Ends"
   ]
  }
 ],
 "metadata": {
  "kernelspec": {
   "display_name": "Python 3 (ipykernel)",
   "language": "python",
   "name": "python3"
  },
  "language_info": {
   "codemirror_mode": {
    "name": "ipython",
    "version": 3
   },
   "file_extension": ".py",
   "mimetype": "text/x-python",
   "name": "python",
   "nbconvert_exporter": "python",
   "pygments_lexer": "ipython3",
   "version": "3.9.12"
  }
 },
 "nbformat": 4,
 "nbformat_minor": 5
}
