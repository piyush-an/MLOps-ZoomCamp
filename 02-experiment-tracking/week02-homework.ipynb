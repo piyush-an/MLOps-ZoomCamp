{
 "cells": [
  {
   "cell_type": "markdown",
   "metadata": {},
   "source": [
    "# Week 02 | Homework\n",
    "\n",
    "Saturday , May 28, 2022 <br>\n",
    "Assignment: [here](https://github.com/DataTalksClub/mlops-zoomcamp/blob/main/02-experiment-tracking/homework.md)\n",
    "---"
   ]
  },
  {
   "cell_type": "markdown",
   "metadata": {},
   "source": [
    "## Q1 : What's the version that you have?\n",
    "\n",
    "Once you installed the package, run the command mlflow --version and check the output.\n"
   ]
  },
  {
   "cell_type": "code",
   "execution_count": 36,
   "metadata": {},
   "outputs": [
    {
     "name": "stdout",
     "output_type": "stream",
     "text": [
      "mlflow, version 1.26.1\n"
     ]
    }
   ],
   "source": [
    "!mlflow --version\n",
    "# mlflow, version 1.26.1"
   ]
  },
  {
   "cell_type": "markdown",
   "metadata": {},
   "source": [
    "## Q2 : How many files were saved to `OUTPUT_FOLDER`?\n",
    "\n",
    "Use the script preprocess_data.py located in the folder homework to preprocess the data."
   ]
  },
  {
   "cell_type": "code",
   "execution_count": 37,
   "metadata": {},
   "outputs": [],
   "source": [
    "! python ~/Notebooks/week02/scripts/preprocess_data.py --raw_data_path ~/Notebooks/data/ --dest_path ~/Notebooks/week02/output"
   ]
  },
  {
   "cell_type": "code",
   "execution_count": 38,
   "metadata": {},
   "outputs": [
    {
     "name": "stdout",
     "output_type": "stream",
     "text": [
      "dv.pkl\ttest.pkl  train.pkl  valid.pkl\n"
     ]
    }
   ],
   "source": [
    "! ls ~/Notebooks/week02/output\n",
    "# 4 Files"
   ]
  },
  {
   "cell_type": "markdown",
   "metadata": {},
   "source": [
    "## Q3 : How many parameters are automatically logged by MLflow?\n",
    "\n",
    "Modify the script to enable autologging with MLflow, execute the script and then launch the MLflow UI to check that the experiment run was properly tracked.\n",
    "\n",
    "`mlflow.sklearn.autolog()` inserted this within the `run` function in the `train.py` file"
   ]
  },
  {
   "cell_type": "code",
   "execution_count": 39,
   "metadata": {},
   "outputs": [
    {
     "name": "stdout",
     "output_type": "stream",
     "text": [
      "2022/05/29 09:50:42 INFO mlflow.tracking.fluent: Experiment with name 'nyc-taxi-homework' does not exist. Creating a new experiment.\n",
      "2022/05/29 09:50:42 INFO mlflow.utils.autologging_utils: Created MLflow autologging run with ID '38624cfb81334159b3fd65880d284d52', which will track hyperparameters, performance metrics, model artifacts, and lineage information for the current sklearn workflow\n",
      "2022/05/29 09:51:02 WARNING mlflow.utils.autologging_utils: MLflow autologging encountered a warning: \"/home/mlops_zoomcamp/anaconda3/envs/exp_tracking/lib/python3.9/site-packages/_distutils_hack/__init__.py:30: UserWarning: Setuptools is replacing distutils.\"\n"
     ]
    }
   ],
   "source": [
    "! python ~/Notebooks/week02/scripts/train.py --data_path ~/Notebooks/week02/output"
   ]
  },
  {
   "cell_type": "code",
   "execution_count": 40,
   "metadata": {},
   "outputs": [],
   "source": [
    "# 17 auto generated parameters \n",
    "\n",
    "# Name\tValue\n",
    "# bootstrap\tTrue\n",
    "# ccp_alpha\t0.0\n",
    "# criterion\tsquared_error\n",
    "# max_depth\t10\n",
    "# max_features\t1.0\n",
    "# max_leaf_nodes\tNone\n",
    "# max_samples\tNone\n",
    "# min_impurity_decrease\t0.0\n",
    "# min_samples_leaf\t1\n",
    "# min_samples_split\t2\n",
    "# min_weight_fraction_leaf\t0.0\n",
    "# n_estimators\t100\n",
    "# n_jobs\tNone\n",
    "# oob_score\tFalse\n",
    "# random_state\t0\n",
    "# verbose\t0\n",
    "# warm_start\tFalse"
   ]
  },
  {
   "cell_type": "markdown",
   "metadata": {},
   "source": [
    "## Q4 : In addition to `backend-store-uri`, what else do you need to pass to properly configure the server?\n",
    "Answer: `default-artifact-root`\n",
    "\n",
    "We want to manage the entire lifecycle of our ML model. In this step, you'll need to launch a tracking server. This way we will also have access to the model registry.\n",
    "\n",
    "Your task is to\n",
    "* launch the tracking server on your local machine\n",
    "* select a SQLite db for the backend store and a folder called artifacts for the artifacts store"
   ]
  },
  {
   "cell_type": "code",
   "execution_count": 41,
   "metadata": {},
   "outputs": [],
   "source": [
    "# ! mlflow ui --backend-store-uri sqlite:///mlflow.db --default-artifact-root ~/Notebooks/week02/artifacts"
   ]
  },
  {
   "cell_type": "markdown",
   "metadata": {},
   "source": [
    "## Q5 : What's the best validation RMSE that you got for February 2021 data?\n",
    "\n",
    "Modify the script `hpo.py` and make sure that the validation RMSE is logged to MLflow for each run of the hyperparameter optimization (you will need to add a few lines of code to the `objective` function) and run the script without passing any parameters.\n",
    "\n",
    "Answer: `6.628` (MLflow UI)"
   ]
  },
  {
   "cell_type": "code",
   "execution_count": 42,
   "metadata": {},
   "outputs": [
    {
     "name": "stdout",
     "output_type": "stream",
     "text": [
      "2022/05/29 09:51:07 INFO mlflow.tracking.fluent: Experiment with name 'random-forest-hyperopt' does not exist. Creating a new experiment.\n",
      "100%|█████████| 50/50 [07:16<00:00,  8.73s/trial, best loss: 6.6284257482044735]\n"
     ]
    }
   ],
   "source": [
    "! python ~/Notebooks/week02/scripts/hpo.py --data_path ~/Notebooks/week02/output"
   ]
  },
  {
   "cell_type": "markdown",
   "metadata": {},
   "source": [
    "## Q6 : Promote the best model to the model registry\n",
    "\n",
    "Ipdate the script register_model.py so that it selects the model with the lowest RMSE on the test set and registers it to the model registry.\n",
    "\n",
    "Answer: `6.55`"
   ]
  },
  {
   "cell_type": "code",
   "execution_count": 43,
   "metadata": {},
   "outputs": [
    {
     "name": "stdout",
     "output_type": "stream",
     "text": [
      "2022/05/29 09:58:26 INFO mlflow.tracking.fluent: Experiment with name 'random-forest-best-models' does not exist. Creating a new experiment.\n",
      "2022/05/29 09:58:43 WARNING mlflow.utils.autologging_utils: MLflow autologging encountered a warning: \"/home/mlops_zoomcamp/anaconda3/envs/exp_tracking/lib/python3.9/site-packages/_distutils_hack/__init__.py:30: UserWarning: Setuptools is replacing distutils.\"\n",
      "Model to be registered\n",
      "Run id: 0737565fcb5d4c8ea36fe096fdb87080, test_rmse: 6.5479\n",
      "Successfully registered model 'nyc-taxi-2021'.\n",
      "2022/05/29 10:00:10 INFO mlflow.tracking._model_registry.client: Waiting up to 300 seconds for model version to finish creation.                     Model name: nyc-taxi-2021, version 1\n",
      "Created version '1' of model 'nyc-taxi-2021'.\n"
     ]
    }
   ],
   "source": [
    "! python ~/Notebooks/week02/scripts/register_model.py --data_path ~/Notebooks/week02/output"
   ]
  }
 ],
 "metadata": {
  "interpreter": {
   "hash": "14ac257e915ac4755ba59f9460a3577fb37731fc5cf5315fe046bb02343169fa"
  },
  "kernelspec": {
   "display_name": "Python 3.9.12 ('exp_tracking')",
   "language": "python",
   "name": "python3"
  },
  "language_info": {
   "codemirror_mode": {
    "name": "ipython",
    "version": 3
   },
   "file_extension": ".py",
   "mimetype": "text/x-python",
   "name": "python",
   "nbconvert_exporter": "python",
   "pygments_lexer": "ipython3",
   "version": "3.9.12"
  },
  "orig_nbformat": 4
 },
 "nbformat": 4,
 "nbformat_minor": 2
}
